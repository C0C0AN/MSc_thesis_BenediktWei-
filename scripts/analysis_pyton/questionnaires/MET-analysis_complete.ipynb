{
 "cells": [
  {
   "cell_type": "code",
   "execution_count": null,
   "metadata": {},
   "outputs": [],
   "source": [
    "import os\n",
    "import pandas as pd\n",
    "from scipy.stats import norm\n",
    "import numpy as np\n",
    "import csv\n",
    "\n",
    "from glob import glob"
   ]
  },
  {
   "cell_type": "code",
   "execution_count": null,
   "metadata": {
    "scrolled": true
   },
   "outputs": [],
   "source": [
    "# path to met-files of 23 subjects (sorted)\n",
    "met_files = sorted(glob('/home/benedikt/Documents/Studium/Masterarbeit/data/questionaires/data_met/*met*.csv'))\n",
    "met_files"
   ]
  },
  {
   "cell_type": "code",
   "execution_count": null,
   "metadata": {
    "scrolled": true
   },
   "outputs": [],
   "source": [
    "pwd"
   ]
  },
  {
   "cell_type": "code",
   "execution_count": null,
   "metadata": {},
   "outputs": [],
   "source": [
    "cd /home/benedikt/Documents/"
   ]
  },
  {
   "cell_type": "code",
   "execution_count": null,
   "metadata": {},
   "outputs": [],
   "source": [
    "# set counter for naming new csvs'\n",
    "counter = 2"
   ]
  },
  {
   "cell_type": "code",
   "execution_count": null,
   "metadata": {},
   "outputs": [],
   "source": [
    "# extract important values from psychopy.csv-output and write into new csvs' for each subject\n",
    "for i in met_files:\n",
    "        df = pd.read_csv(i)\n",
    "\n",
    "\n",
    "        answers_melody = df[['phrases_sounds','reaction_mel_key.keys','target_mel','reaction_mel_key.corr', 'reaction_mel_key.rt']][0:52]\n",
    "        answers_rhythm = df[['rhythm_sounds','reaction_rhy_key.keys','target_rhy','reaction_rhy_key.corr', 'reaction_rhy_key.rt']][52:104]\n",
    "\n",
    "        answers_melody_corr = answers_melody['reaction_mel_key.corr'].sum()\n",
    "        melody1_corr_percent = answers_melody_corr/52\n",
    "        answers_rhythm_corr = answers_rhythm['reaction_rhy_key.corr'].sum()\n",
    "        rhythm_corr_percent = answers_rhythm_corr/52\n",
    "        print(answers_melody_corr)\n",
    "        print(answers_melody)\n",
    "\n",
    "        hit_melody = 0\n",
    "        falsealarm_melody=0\n",
    "        for i in range(0,0 + len(answers_melody['target_mel'])):\n",
    "            if answers_melody['target_mel'][i] == 'n' and answers_melody['reaction_mel_key.keys'][i] == 'n':\n",
    "                hit_melody += 1\n",
    "            elif answers_melody['target_mel'][i] == 'j' and answers_melody['reaction_mel_key.keys'][i] == 'n':\n",
    "                falsealarm_melody += 1\n",
    "        # positive answers relative to all positive targets - correctly answered positive ansers\n",
    "        hitrate_melody = hit_melody/26.0\n",
    "        # amount of negative answers given for positive targets - falsely positive evaluated objects\n",
    "        falsealarmrate_melody = falsealarm_melody/26.0\n",
    "        # d' = Z(hit rate) − Z(false alarm rate\n",
    "        answers_mel_dprime = norm.ppf(hitrate_melody)-norm.ppf(falsealarmrate_melody)\n",
    "        answers_mel_dprime_c = -0.5*(norm.ppf(hitrate_melody)+norm.ppf(falsealarmrate_melody))\n",
    "\n",
    "        hit_rhythm = 0\n",
    "        falsealarm_rhythm=0\n",
    "        for i in range(52,52 + len(answers_rhythm['target_rhy'])):\n",
    "            if answers_rhythm['target_rhy'][i] == 'n' and answers_rhythm['reaction_rhy_key.keys'][i] == 'n':\n",
    "                hit_rhythm += 1\n",
    "            elif answers_rhythm['target_rhy'][i] == 'y' and answers_rhythm['reaction_rhy_key.keys'][i] == 'n':\n",
    "                falsealarm_rhythm += 1\n",
    "        # positive answers relative to all positive targets - correctly answered positive ansers\n",
    "        hitrate_rhythm = hit_rhythm/26.0\n",
    "        # amount of negative answers given for positive targets - falsely positive evaluated objects\n",
    "        falsealarmrate_rhythm = falsealarm_rhythm/26.0\n",
    "        # d' = Z(hit rate) − Z(false alarm rate\n",
    "        answers_rhy_dprime = norm.ppf(hitrate_rhythm)-norm.ppf(falsealarmrate_rhythm)\n",
    "        answers_rhy_dprime_c = -0.5*(norm.ppf(hitrate_rhythm)+norm.ppf(falsealarmrate_rhythm))\n",
    "        \n",
    "        # either write to new csv (looks way cleaner) or append to existing data\n",
    "        \n",
    "        file_open = open('analysed_met_sub-0%i.csv' % counter ,'a')\n",
    "        \n",
    "        keys= ['answers_melody_corr','hit_melody','falsealarm_melody','hitrate_melody','falsealarmrate_melody','answers_mel_dprime','answers_mel_dprime_c',\n",
    "                        'answers_rhythm_corr','hit_rhythm','falsealarm_rhythm','hitrate_rhythm','falsealarmrate_rhythm','answers_rhy_dprime','answers_rhy_dprime_c']\n",
    "        values=[answers_melody_corr,hit_melody,falsealarm_melody,hitrate_melody,falsealarmrate_melody,answers_mel_dprime,answers_mel_dprime_c,answers_rhythm_corr,hit_rhythm,falsealarm_rhythm,hitrate_rhythm,falsealarmrate_rhythm,answers_rhy_dprime,answers_rhy_dprime_c]\n",
    "\n",
    "        for i in range(len(keys)):\n",
    "            if i == len(keys) -1:\n",
    "                file_open.write(keys[i])\n",
    "            else:\n",
    "                file_open.write(keys[i]+',')\n",
    "\n",
    "        file_open.write('\\n')\n",
    "\n",
    "        for i in range(len(values)):\n",
    "            if i == len(values) -1:\n",
    "                file_open.write(str(values[i]))\n",
    "            else:\n",
    "                file_open.write(str(values[i])+',')\n",
    "\n",
    "        file_open.close()\n",
    "        counter = counter + 1\n",
    "# csv-files manually renamed afterwards! (without sub-07 --> .mat-file!)"
   ]
  },
  {
   "cell_type": "code",
   "execution_count": null,
   "metadata": {},
   "outputs": [],
   "source": [
    "# write separated dataframes containing values of the newly created csvs' from the respective groups\n",
    "df_1 = pd.read_csv('/home/benedikt/Documents/Studium/Masterarbeit/data/questionaires/data_met/met_ausgewertet/analysed_met_sub-13.csv')\n",
    "df_2 = pd.read_csv('/home/benedikt/Documents/Studium/Masterarbeit/data/questionaires/data_met/met_ausgewertet/analysed_met_sub-15.csv')\n",
    "df_3 = pd.read_csv('/home/benedikt/Documents/Studium/Masterarbeit/data/questionaires/data_met/met_ausgewertet/analysed_met_sub-20.csv')\n",
    "df_4 = pd.read_csv('/home/benedikt/Documents/Studium/Masterarbeit/data/questionaires/data_met/met_ausgewertet/analysed_met_sub-23.csv')\n",
    "df_con_lh_nonmus = [df_1, df_2, df_3, df_4]\n",
    "MET_lh_nonmus=pd.concat(df_con_lh_nonmus)\n",
    "\n",
    "df_5 = pd.read_csv('/home/benedikt/Documents/Studium/Masterarbeit/data/questionaires/data_met/met_ausgewertet/analysed_met_sub-03.csv')\n",
    "df_6 = pd.read_csv('/home/benedikt/Documents/Studium/Masterarbeit/data/questionaires/data_met/met_ausgewertet/analysed_met_sub-04.csv')\n",
    "df_7 = pd.read_csv('/home/benedikt/Documents/Studium/Masterarbeit/data/questionaires/data_met/met_ausgewertet/analysed_met_sub-11.csv')\n",
    "df_8 = pd.read_csv('/home/benedikt/Documents/Studium/Masterarbeit/data/questionaires/data_met/met_ausgewertet/analysed_met_sub-12.csv')\n",
    "df_9 = pd.read_csv('/home/benedikt/Documents/Studium/Masterarbeit/data/questionaires/data_met/met_ausgewertet/analysed_met_sub-17.csv')\n",
    "#df_10 = pd.read_csv('/home/benedikt/Documents/Studium/Masterarbeit/data/questionaires/data_met/met_ausgewertet/analysed_met_sub-18.csv')\n",
    "df_11 = pd.read_csv('/home/benedikt/Documents/Studium/Masterarbeit/data/questionaires/data_met/met_ausgewertet/analysed_met_sub-21.csv')\n",
    "df_con_rh_mus = [df_5, df_6, df_7, df_8, df_9, df_11] #without sub-18\n",
    "MET_rh_mus=pd.concat(df_con_rh_mus)\n",
    "\n",
    "df_12 = pd.read_csv('/home/benedikt/Documents/Studium/Masterarbeit/data/questionaires/data_met/met_ausgewertet/analysed_met_sub-02.csv')\n",
    "df_13 = pd.read_csv('/home/benedikt/Documents/Studium/Masterarbeit/data/questionaires/data_met/met_ausgewertet/analysed_met_sub-05.csv')\n",
    "df_14 = pd.read_csv('/home/benedikt/Documents/Studium/Masterarbeit/data/questionaires/data_met/met_ausgewertet/analysed_met_sub-06.csv')\n",
    "df_15 = pd.read_csv('/home/benedikt/Documents/Studium/Masterarbeit/data/questionaires/data_met/met_ausgewertet/analysed_met_sub-08.csv')\n",
    "#df_16 = pd.read_csv('/home/benedikt/Documents/Studium/Masterarbeit/data/questionaires/data_met/met_ausgewertet/analysed_met_sub-09.csv')\n",
    "#df_17 = pd.read_csv('/home/benedikt/Documents/Studium/Masterarbeit/data/questionaires/data_met/met_ausgewertet/analysed_met_sub-10.csv')\n",
    "df_18 = pd.read_csv('/home/benedikt/Documents/Studium/Masterarbeit/data/questionaires/data_met/met_ausgewertet/analysed_met_sub-14.csv')\n",
    "df_19 = pd.read_csv('/home/benedikt/Documents/Studium/Masterarbeit/data/questionaires/data_met/met_ausgewertet/analysed_met_sub-16.csv')\n",
    "df_20 = pd.read_csv('/home/benedikt/Documents/Studium/Masterarbeit/data/questionaires/data_met/met_ausgewertet/analysed_met_sub-19.csv')\n",
    "df_21 = pd.read_csv('/home/benedikt/Documents/Studium/Masterarbeit/data/questionaires/data_met/met_ausgewertet/analysed_met_sub-22.csv')\n",
    "df_22 = pd.read_csv('/home/benedikt/Documents/Studium/Masterarbeit/data/questionaires/data_met/met_ausgewertet/analysed_met_sub-24.csv')\n",
    "df_con_rh_nonmus = [df_12, df_13, df_14, df_15, df_18, df_19, df_20, df_21, df_22] # without sub-09 and 10\n",
    "MET_rh_nonmus=pd.concat(df_con_rh_nonmus)\n",
    " "
   ]
  },
  {
   "cell_type": "markdown",
   "metadata": {},
   "source": [
    "### analysis: mean, std of performance on MET-subtasks (melody, rhythm) as well as mean, std of total MET performance for each group"
   ]
  },
  {
   "cell_type": "code",
   "execution_count": null,
   "metadata": {},
   "outputs": [],
   "source": [
    "MET_lh_nonmus"
   ]
  },
  {
   "cell_type": "code",
   "execution_count": null,
   "metadata": {},
   "outputs": [],
   "source": [
    "mean_subtasks = MET_lh_nonmus[['answers_melody_corr', 'answers_rhythm_corr']].mean()\n",
    "mean_subtasks"
   ]
  },
  {
   "cell_type": "code",
   "execution_count": null,
   "metadata": {},
   "outputs": [],
   "source": [
    "std_subtasks = MET_lh_nonmus[['answers_melody_corr', 'answers_rhythm_corr']].std()\n",
    "std_subtasks"
   ]
  },
  {
   "cell_type": "code",
   "execution_count": null,
   "metadata": {},
   "outputs": [],
   "source": [
    "# concatenation of columns to analyse whole MET-performance per group\n",
    "\n",
    "x = list(MET_lh_nonmus['answers_melody_corr'])\n",
    "y = list(MET_lh_nonmus['answers_rhythm_corr'])\n",
    "total_lhnm=np.concatenate([x,y])\n",
    " \n",
    "met_means = []\n",
    "met_stds = []\n",
    "\n",
    "met_means.append(total_lhnm.mean())\n",
    "met_stds.append(total_lhnm.std())"
   ]
  },
  {
   "cell_type": "code",
   "execution_count": null,
   "metadata": {},
   "outputs": [],
   "source": [
    "print(met_means)\n",
    "print(met_stds)"
   ]
  },
  {
   "cell_type": "code",
   "execution_count": null,
   "metadata": {},
   "outputs": [],
   "source": [
    "MET_rh_mus"
   ]
  },
  {
   "cell_type": "code",
   "execution_count": null,
   "metadata": {},
   "outputs": [],
   "source": [
    "# append row for sub-07 --> was saved in a mat-file!\n",
    "MET_rh_mus.loc[6] = [45.0, 0, 0, 0, 0, 0, 0, 39.0, 0, 0, 0, 0, 0, 0]"
   ]
  },
  {
   "cell_type": "code",
   "execution_count": null,
   "metadata": {},
   "outputs": [],
   "source": [
    "MET_rh_mus"
   ]
  },
  {
   "cell_type": "code",
   "execution_count": null,
   "metadata": {},
   "outputs": [],
   "source": [
    "mean_subtasks = MET_rh_mus[['answers_melody_corr', 'answers_rhythm_corr']].mean()\n",
    "mean_subtasks"
   ]
  },
  {
   "cell_type": "code",
   "execution_count": null,
   "metadata": {},
   "outputs": [],
   "source": [
    "std_subtasks = MET_rh_mus[['answers_melody_corr', 'answers_rhythm_corr']].std()\n",
    "std_subtasks"
   ]
  },
  {
   "cell_type": "code",
   "execution_count": null,
   "metadata": {},
   "outputs": [],
   "source": [
    "# concatenation of columns to analyse whole MET-performance per group\n",
    "\n",
    "x = list(MET_rh_mus['answers_melody_corr'])\n",
    "y = list(MET_rh_mus['answers_rhythm_corr'])\n",
    "total_rhm=np.concatenate([x,y])\n",
    "\n",
    "met_means.append(total_rhm.mean())\n",
    "met_stds.append(total_rhm.std())"
   ]
  },
  {
   "cell_type": "code",
   "execution_count": null,
   "metadata": {},
   "outputs": [],
   "source": [
    "print(met_means)\n",
    "print(met_stds)"
   ]
  },
  {
   "cell_type": "code",
   "execution_count": null,
   "metadata": {},
   "outputs": [],
   "source": [
    "MET_rh_nonmus"
   ]
  },
  {
   "cell_type": "code",
   "execution_count": null,
   "metadata": {},
   "outputs": [],
   "source": [
    "mean_subtasks = MET_rh_nonmus[['answers_melody_corr', 'answers_rhythm_corr']].mean()\n",
    "mean_subtasks"
   ]
  },
  {
   "cell_type": "code",
   "execution_count": null,
   "metadata": {},
   "outputs": [],
   "source": [
    "std_subtasks = MET_rh_nonmus[['answers_melody_corr', 'answers_rhythm_corr']].std()\n",
    "std_subtasks"
   ]
  },
  {
   "cell_type": "code",
   "execution_count": null,
   "metadata": {},
   "outputs": [],
   "source": [
    "# concatenation of columns to analyse whole MET-performance per group\n",
    "\n",
    "x = list(MET_rh_nonmus['answers_melody_corr'])\n",
    "y = list(MET_rh_nonmus['answers_rhythm_corr'])\n",
    "total_rhnm=np.concatenate([x,y])\n",
    "\n",
    "met_means.append(total_rhnm.mean())\n",
    "met_stds.append(total_rhnm.std())"
   ]
  },
  {
   "cell_type": "code",
   "execution_count": null,
   "metadata": {},
   "outputs": [],
   "source": [
    "print(met_means)\n",
    "print(met_stds)"
   ]
  },
  {
   "cell_type": "code",
   "execution_count": null,
   "metadata": {},
   "outputs": [],
   "source": [
    "# mean,std-values in percent\n",
    "a = np.asarray(met_means)\n",
    "percentage_mean = a/52 *100\n",
    "percentage_mean"
   ]
  },
  {
   "cell_type": "code",
   "execution_count": null,
   "metadata": {},
   "outputs": [],
   "source": [
    "b = np.asarray(met_stds)\n",
    "percentage_std = b/52 *100\n",
    "percentage_std"
   ]
  },
  {
   "cell_type": "code",
   "execution_count": null,
   "metadata": {
    "scrolled": true
   },
   "outputs": [],
   "source": [
    " \n",
    "df = pd.DataFrame({'groups': ['Left-handed_non-musicians','Right-handed_musicians','Right-handed_non-musicians'], 'met_means': percentage_mean, 'met_stds': percentage_std})\n",
    "df"
   ]
  },
  {
   "cell_type": "code",
   "execution_count": null,
   "metadata": {
    "scrolled": false
   },
   "outputs": [],
   "source": [
    "import seaborn as sns\n",
    "import matplotlib.pyplot as plt\n",
    "%matplotlib inline\n",
    "\n",
    "plt.subplots(figsize=(10,7))\n",
    "plt.title('Musical Ear Test', fontsize=16, fontweight = 'bold')\n",
    "sns.set_context('paper')\n",
    "sns.set_style('darkgrid')\n",
    "sns.set(font_scale = 1.2)\n",
    "g=sns.barplot(x='groups', y='met_means', data=df, yerr=df['met_stds'])\n",
    "ax=g\n",
    "g.set_xlabel('')\n",
    "g.set_ylabel(\"Percent Accuracy\",fontsize=14, fontweight = 'bold', labelpad=12)\n",
    "g.set_xticklabels(['LH non-musicians', 'RH musicians', 'RH non-musicians'],fontsize=14, fontweight = 'bold')\n",
    "\n",
    "current_palette = sns.color_palette()\n",
    "# annotate axis = seaborn axis\n",
    "for p in ax.patches:\n",
    "             ax.annotate(\"%.2f \" % p.get_height(), (p.get_x() + p.get_width() / 2., p.get_height()),\n",
    "                 ha='right', va='center', fontsize=15, color='black', xytext=(0, 10),\n",
    "                 textcoords='offset points')\n",
    "_ = g.set_ylim(0,100) #To make space for the annotations"
   ]
  },
  {
   "cell_type": "code",
   "execution_count": null,
   "metadata": {},
   "outputs": [],
   "source": [
    "# export the figure as png\n",
    "fig = g.get_figure()\n",
    "fig.savefig(\"output.png\")"
   ]
  },
  {
   "cell_type": "markdown",
   "metadata": {},
   "source": [
    "### T-test between rhm vs rhnm on total met-performane"
   ]
  },
  {
   "cell_type": "code",
   "execution_count": null,
   "metadata": {},
   "outputs": [],
   "source": [
    "print(total_lhnm)\n",
    "print(total_rhm)\n",
    "print(total_rhnm)"
   ]
  },
  {
   "cell_type": "code",
   "execution_count": null,
   "metadata": {},
   "outputs": [],
   "source": [
    "from scipy.stats import ttest_ind\n",
    "ttest = ttest_ind(total_rhm, total_rhnm)\n",
    "ttest\n",
    "# results in order: t-value, p-value"
   ]
  },
  {
   "cell_type": "code",
   "execution_count": null,
   "metadata": {},
   "outputs": [],
   "source": [
    "ttest = ttest_ind(total_rhm, total_lhnm)\n",
    "ttest"
   ]
  }
 ],
 "metadata": {
  "kernelspec": {
   "display_name": "Python 3",
   "language": "python",
   "name": "python3"
  },
  "language_info": {
   "codemirror_mode": {
    "name": "ipython",
    "version": 3
   },
   "file_extension": ".py",
   "mimetype": "text/x-python",
   "name": "python",
   "nbconvert_exporter": "python",
   "pygments_lexer": "ipython3",
   "version": "3.6.5"
  }
 },
 "nbformat": 4,
 "nbformat_minor": 2
}
