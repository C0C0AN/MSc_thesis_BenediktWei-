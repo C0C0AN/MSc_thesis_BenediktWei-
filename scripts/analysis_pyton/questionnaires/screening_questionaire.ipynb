{
 "cells": [
  {
   "cell_type": "code",
   "execution_count": null,
   "metadata": {},
   "outputs": [],
   "source": [
    "import os\n",
    "import pandas as pd\n",
    "from scipy.stats import norm\n",
    "import numpy as np\n",
    "\n",
    "ages = np.array([23,21,25,29,22,23,21,28,24,24,27,25,27,25,19,24,25,30,18,24,18,28,23])\n",
    "np.mean(ages)"
   ]
  },
  {
   "cell_type": "code",
   "execution_count": null,
   "metadata": {},
   "outputs": [],
   "source": [
    "np.std(ages)"
   ]
  },
  {
   "cell_type": "code",
   "execution_count": null,
   "metadata": {},
   "outputs": [],
   "source": [
    "ages = np.array([23,29,22,21,27,19,30,18,23])\n",
    "np.mean(ages)"
   ]
  },
  {
   "cell_type": "code",
   "execution_count": null,
   "metadata": {},
   "outputs": [],
   "source": [
    "np.std(ages)"
   ]
  },
  {
   "cell_type": "code",
   "execution_count": null,
   "metadata": {},
   "outputs": [],
   "source": [
    "ages = np.array([25,25,18,28])\n",
    "np.mean(ages)"
   ]
  },
  {
   "cell_type": "code",
   "execution_count": null,
   "metadata": {},
   "outputs": [],
   "source": [
    "np.std(ages)"
   ]
  },
  {
   "cell_type": "code",
   "execution_count": null,
   "metadata": {},
   "outputs": [],
   "source": [
    "ages = np.array([21,25,23,24,27,24,24])\n",
    "np.mean(ages)"
   ]
  },
  {
   "cell_type": "code",
   "execution_count": null,
   "metadata": {},
   "outputs": [],
   "source": [
    "np.std(ages)"
   ]
  },
  {
   "cell_type": "code",
   "execution_count": null,
   "metadata": {},
   "outputs": [],
   "source": [
    "df_5 = pd.read_csv('/home/benedikt/Documents/Studium/Masterarbeit/data/questionaires/data_ling_mus/sub-03_ling_music_2018_Jul_17_1258.csv')\n",
    "df_6 = pd.read_csv('/home/benedikt/Documents/Studium/Masterarbeit/data/questionaires/data_ling_mus/sub-04_ling_music_2018_Jul_18_1636.csv')\n",
    "df_7 = pd.read_csv('/home/benedikt/Documents/Studium/Masterarbeit/data/questionaires/data_ling_mus/sub-07_ling_music_2018_Jul_20_1810.csv')\n",
    "df_8 = pd.read_csv('/home/benedikt/Documents/Studium/Masterarbeit/data/questionaires/data_ling_mus/sub-11_ling_music_2018_Jul_24_1204.csv')\n",
    "df_9 = pd.read_csv('/home/benedikt/Documents/Studium/Masterarbeit/data/questionaires/data_ling_mus/sub-12_ling_music_2018_Jul_25_1323.csv')\n",
    "df_10 = pd.read_csv('/home/benedikt/Documents/Studium/Masterarbeit/data/questionaires/data_ling_mus/sub-21_ling_music_2018_Aug_07_1655.csv')\n",
    "df_11 = pd.read_csv('/home/benedikt/Documents/Studium/Masterarbeit/data/questionaires/data_ling_mus/sub-17_ling_music_2018_Aug_03_1242.csv')\n",
    "df_12 = pd.read_csv('/home/benedikt/Documents/Studium/Masterarbeit/data/questionaires/data_ling_mus/sub-18_ling_music_2018_Aug_03_1405.csv')\n",
    "df_con_rh_mus = [df_5, df_6, df_7, df_8, df_9, df_10, df_11, df_12] \n",
    "screening_rh_mus=pd.concat(df_con_rh_mus)"
   ]
  },
  {
   "cell_type": "code",
   "execution_count": null,
   "metadata": {},
   "outputs": [],
   "source": [
    "screening_rh_mus[['Instrument spielen', 'Welches Instrument', 'I Jahre gelernt', 'I Haeufigkeit ueben', 'Chor singen', 'C seit Jahren', 'C Haeufigkeit ueben']]"
   ]
  },
  {
   "cell_type": "code",
   "execution_count": null,
   "metadata": {},
   "outputs": [],
   "source": [
    "screening_rh_mus[['Frueher Instrument spielen', 'Fr welches Instrument', 'Fr Jahre gelernt', 'Fr Haeufigkeit geuebt', 'Frueher Chor gesungen', 'Fr C Jahre', 'Fr C Haeufigkeit ueben']]"
   ]
  },
  {
   "cell_type": "code",
   "execution_count": null,
   "metadata": {
    "scrolled": true
   },
   "outputs": [],
   "source": [
    "screening_rh_mus[['Momentan Musikunterricht', 'MU seit Jahren', 'MU Haeufigkeit ueben', 'Frueher Musikunterricht', 'Fr MU Jahre', 'Fr Haeufigkeit geuebt']]"
   ]
  },
  {
   "cell_type": "code",
   "execution_count": null,
   "metadata": {},
   "outputs": [],
   "source": [
    "screening_rh_mus[['Momentan Gesangsunterricht', 'GU seit Jahren', 'GU Haeufigkeit ueben', 'Frueher Gesangsunterricht', 'Fr GU Jahre', 'Fr GU Haeufigkeit geuebt']]"
   ]
  },
  {
   "cell_type": "code",
   "execution_count": null,
   "metadata": {},
   "outputs": [],
   "source": [
    "practice = np.array([12,18,15,10,20,19,15,5])\n",
    "np.mean(practice)"
   ]
  },
  {
   "cell_type": "code",
   "execution_count": null,
   "metadata": {},
   "outputs": [],
   "source": [
    "np.std(practice)"
   ]
  },
  {
   "cell_type": "code",
   "execution_count": null,
   "metadata": {},
   "outputs": [],
   "source": [
    "hours = np.array([8,3,5,2,8,3,2,1])\n",
    "np.mean(hours)"
   ]
  },
  {
   "cell_type": "code",
   "execution_count": null,
   "metadata": {},
   "outputs": [],
   "source": [
    "np.std(hours)"
   ]
  },
  {
   "cell_type": "code",
   "execution_count": null,
   "metadata": {},
   "outputs": [],
   "source": [
    "from glob import glob\n",
    "import csv\n",
    "files = sorted(glob('/home/benedikt/Documents/Studium/Masterarbeit/data/questionaires/data_ling_mus/sub-*.csv'))\n",
    "files"
   ]
  },
  {
   "cell_type": "code",
   "execution_count": null,
   "metadata": {},
   "outputs": [],
   "source": [
    "for i in files:\n",
    "    df = pd.read_csv(i)\n",
    "    df_2 = pd.DataFrame(df)\n",
    "    print(df_2)\n",
    "    "
   ]
  }
 ],
 "metadata": {
  "kernelspec": {
   "display_name": "Python 3",
   "language": "python",
   "name": "python3"
  },
  "language_info": {
   "codemirror_mode": {
    "name": "ipython",
    "version": 3
   },
   "file_extension": ".py",
   "mimetype": "text/x-python",
   "name": "python",
   "nbconvert_exporter": "python",
   "pygments_lexer": "ipython3",
   "version": "3.6.5"
  }
 },
 "nbformat": 4,
 "nbformat_minor": 2
}
