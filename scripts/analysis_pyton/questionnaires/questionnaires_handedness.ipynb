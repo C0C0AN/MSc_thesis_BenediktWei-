{
 "cells": [
  {
   "cell_type": "markdown",
   "metadata": {
    "collapsed": true
   },
   "source": [
    "## Auswertung Händigkeit nach oldfield, waterloo"
   ]
  },
  {
   "cell_type": "markdown",
   "metadata": {},
   "source": [
    "### 1. Oldfield"
   ]
  },
  {
   "cell_type": "code",
   "execution_count": null,
   "metadata": {},
   "outputs": [],
   "source": [
    "# import modules\n",
    "import pandas as pd\n",
    "import csv\n",
    "import os\n",
    "from glob import glob"
   ]
  },
  {
   "cell_type": "code",
   "execution_count": null,
   "metadata": {
    "scrolled": true
   },
   "outputs": [],
   "source": [
    "# path to oldfiled-files of 23 subjects (sorted)\n",
    "oldfield_files = sorted(glob('/home/benedikt/Documents/Studium/Masterarbeit/data/questionaires/data_haendigkeit/*oldfield*.csv'))\n",
    "oldfield_files"
   ]
  },
  {
   "cell_type": "code",
   "execution_count": null,
   "metadata": {},
   "outputs": [],
   "source": [
    "# iterate over all files concatenating all information into one file \n",
    "pieces = []\n",
    "columns = ['q1_schreiben', 'q2_zeichnen', 'q3_werfen', 'q4_Schere', 'q5_zahnbuerste', 'q6_messer', 'q7_loeffel', 'q8_besen', 'q9_streichholz', 'q10_kiste oeffnen', 'mean', 'result']\n",
    "for i in oldfield_files:\n",
    "        df = pd.read_csv(i, names=columns)\n",
    "        pieces.append(df)\n",
    "        allData = pd.concat(pieces, ignore_index=True)"
   ]
  },
  {
   "cell_type": "code",
   "execution_count": null,
   "metadata": {
    "scrolled": true
   },
   "outputs": [],
   "source": [
    "# create new dataframe without headers for each participant\n",
    "df2=[]\n",
    "for i in range(1, len(allData.values), 2):\n",
    "    df2.append(allData.values[i])\n",
    "    \n",
    "df3 = pd.DataFrame(df2)"
   ]
  },
  {
   "cell_type": "code",
   "execution_count": null,
   "metadata": {},
   "outputs": [],
   "source": [
    "#add new headers for all data\n",
    "df3.columns = ['q1_schreiben', 'q2_zeichnen', 'q3_werfen', 'q4_Schere', 'q5_zahnbuerste', 'q6_messer', 'q7_loeffel', 'q8_besen', 'q9_streichholz', 'q10_kiste oeffnen', 'mean', 'result']"
   ]
  },
  {
   "cell_type": "code",
   "execution_count": null,
   "metadata": {
    "scrolled": true
   },
   "outputs": [],
   "source": [
    "df3"
   ]
  },
  {
   "cell_type": "code",
   "execution_count": null,
   "metadata": {},
   "outputs": [],
   "source": [
    "#Handedness score is calculated using this formula: 100*((Right - Left) / (Right + Left)). \n",
    "#http://zhanglab.wdfiles.com/local--files/survey/handedness.html"
   ]
  },
  {
   "cell_type": "markdown",
   "metadata": {},
   "source": [
    "### 2.Waterloo"
   ]
  },
  {
   "cell_type": "code",
   "execution_count": null,
   "metadata": {},
   "outputs": [],
   "source": [
    "# import modules\n",
    "import pandas as pd\n",
    "import numpy as np\n",
    "import csv\n",
    "from glob import glob\n",
    "import functools\n",
    "\n",
    "# function to remove NaN-values and shift cells up\n",
    "def drop_and_roll(col, na_position='last', fillvalue=np.nan):\n",
    "    result = np.full(len(col), fillvalue, dtype=col.dtype)\n",
    "    mask = col.notnull()\n",
    "    N = mask.sum()\n",
    "    if na_position == 'last':\n",
    "        result[:N] = col.loc[mask]\n",
    "    elif na_position == 'first':\n",
    "        result[-N:] = col.loc[mask]\n",
    "    else:\n",
    "        raise ValueError('na_position {!r} unrecognized'.format(na_position))\n",
    "    return result"
   ]
  },
  {
   "cell_type": "code",
   "execution_count": null,
   "metadata": {
    "scrolled": true
   },
   "outputs": [],
   "source": [
    "# path to waterloo-files of 23 subjects (sorted)\n",
    "waterloo_files = sorted(glob('/home/benedikt/Documents/Studium/Masterarbeit/data/questionaires/data_haendigkeit/*waterloo*.csv'))\n",
    "waterloo_files"
   ]
  },
  {
   "cell_type": "code",
   "execution_count": null,
   "metadata": {
    "scrolled": true
   },
   "outputs": [],
   "source": [
    "# read csv, only the needed columns\n",
    "x = pd.read_csv(waterloo_files[22], usecols = [0,1,2,4,6,8,10,12,14,16,18,20,22,24,26,28,30,32,34,36,38,40,42,44,46,48,50,52,54,56,58,60,62,64,66,68,70,72])"
   ]
  },
  {
   "cell_type": "code",
   "execution_count": null,
   "metadata": {
    "scrolled": true
   },
   "outputs": [],
   "source": [
    "# apply the drop_and_roll_function to get rid of NaN-cells in csv\n",
    "y = x.apply(functools.partial(drop_and_roll, fillvalue=''))"
   ]
  },
  {
   "cell_type": "code",
   "execution_count": null,
   "metadata": {},
   "outputs": [],
   "source": [
    "# extract the 1st row as the only interesting one, write to dataframe\n",
    "df = pd.DataFrame(y[:1])"
   ]
  },
  {
   "cell_type": "code",
   "execution_count": null,
   "metadata": {
    "scrolled": true
   },
   "outputs": [],
   "source": [
    "# switch rows and columns\n",
    "df_readable = df.transpose()\n",
    "df_readable"
   ]
  },
  {
   "cell_type": "code",
   "execution_count": null,
   "metadata": {},
   "outputs": [],
   "source": [
    "# count the answers on the 34 questions on hand preference (Ra + Ru + Eq + Lu + La)\n",
    "df_readable[0].value_counts()"
   ]
  },
  {
   "cell_type": "code",
   "execution_count": null,
   "metadata": {},
   "outputs": [],
   "source": [
    "# handedness-score: scored on a scale from -2 to 2 --> Ra=+2, Ru=+1, Eq= 1 for both, Lu=-1, La=-2\n",
    "# count up values for each participant to get an absolute score value (+100 <--> -100)\n",
    "# score = 100*((Right - Left) / (Right + Left))"
   ]
  }
 ],
 "metadata": {
  "kernelspec": {
   "display_name": "Python 3",
   "language": "python",
   "name": "python3"
  },
  "language_info": {
   "codemirror_mode": {
    "name": "ipython",
    "version": 3
   },
   "file_extension": ".py",
   "mimetype": "text/x-python",
   "name": "python",
   "nbconvert_exporter": "python",
   "pygments_lexer": "ipython3",
   "version": "3.6.5"
  }
 },
 "nbformat": 4,
 "nbformat_minor": 2
}
