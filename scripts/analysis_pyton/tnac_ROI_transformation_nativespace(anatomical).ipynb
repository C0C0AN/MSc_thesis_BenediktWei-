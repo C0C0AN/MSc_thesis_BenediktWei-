{
 "cells": [
  {
   "cell_type": "code",
   "execution_count": null,
   "metadata": {},
   "outputs": [],
   "source": [
    "##### import modules #####\n",
    "\n",
    "from os.path import join as opj\n",
    "from nipype.interfaces.ants import ApplyTransforms\n",
    "from nipype.interfaces.utility import IdentityInterface\n",
    "from nipype.interfaces.freesurfer import FSCommand, MRIConvert\n",
    "from nipype.interfaces.io import SelectFiles, DataSink, FreeSurferSource\n",
    "from nipype.pipeline.engine import Workflow, Node, MapNode\n",
    "from nipype.algorithms.misc import Gunzip "
   ]
  },
  {
   "cell_type": "code",
   "execution_count": null,
   "metadata": {},
   "outputs": [],
   "source": [
    "# FreeSurfer - Specify the location of the freesurfer folder\n",
    "fs_dir = '/media/lmn/86A406A0A406933B2/TNAC_BIDS/derivatives/mindboggle/freesurfer_subjects/'\n",
    "FSCommand.set_default_subjects_dir(fs_dir)"
   ]
  },
  {
   "cell_type": "code",
   "execution_count": null,
   "metadata": {},
   "outputs": [],
   "source": [
    "##### set paths and define parameters #####\n",
    "\n",
    "experiment_dir = '/media/lmn/86A406A0A406933B2/TNAC_BIDS/'\n",
    "output_dir = 'derivatives/masks/output_inverse_transform_ROIs'\n",
    "working_dir = 'derivatives/masks/workingdir_inverse_transform_ROIs' \n",
    "input_dir_preproc = 'derivatives/preprocessing/output_preproc'\n",
    "input_dir_reg = 'derivatives/preprocessing/output_registration'\n",
    "\n",
    "#location of atlas --> downloaded from alpaca\n",
    "input_dir_ROIs = 'derivatives/anat_rois_norman-haignere/anatlabels_surf_mni/mni152_te11-te10-te12-pt-pp'\n",
    "\n",
    "# list of subjects\n",
    "subject_list = ['sub-03', 'sub-04', 'sub-05', 'sub-06', 'sub-07', 'sub-08', 'sub-09', 'sub-10', 'sub-11', 'sub-12', 'sub-13', 'sub-14'] \n"
   ]
  },
  {
   "cell_type": "code",
   "execution_count": null,
   "metadata": {},
   "outputs": [],
   "source": [
    "#### specify workflow-nodes #####\n",
    "\n",
    "# FreeSurferSource - Data grabber specific for FreeSurfer data\n",
    "fssource = Node(FreeSurferSource(subjects_dir=fs_dir),\n",
    "                run_without_submitting=True,\n",
    "                name='fssource')\n",
    "\n",
    "# Convert FreeSurfer's MGZ format into NIfTI.gz-format (brain.mgz-anatomical)\n",
    "convert2niigz = Node(MRIConvert(out_type='niigz'), name='convert2niigz')\n",
    "\n",
    "# Transform the volumetric ROIs to the target space\n",
    "inverse_transform_rois = MapNode(ApplyTransforms(args='--float',\n",
    "                                  input_image_type=3,\n",
    "                                  interpolation='Linear',\n",
    "                                  invert_transform_flags=[False],\n",
    "                                  num_threads=1,\n",
    "                                  terminal_output='file'),\n",
    "                  name='inverse_transform_rois', iterfield=['input_image'])\n",
    " \n",
    "# Gunzip - unzip the output ROI-images to use them in further DCM-analysis\n",
    "gunzip_rois = MapNode(Gunzip(), name=\"gunzip_rois\", iterfield=['in_file'])\n",
    "\n",
    "# Gunzip - unzip the anatomical reference-image to use it in further DCM-analysis\n",
    "gunzip_anat = Node(Gunzip(), name=\"gunzip_anat\")"
   ]
  },
  {
   "cell_type": "code",
   "execution_count": null,
   "metadata": {},
   "outputs": [],
   "source": [
    "##### specify input and output stream #####\n",
    "\n",
    "# Infosource - a function free node to iterate over the list of subject names\n",
    "infosource = Node(IdentityInterface(fields=['subject_id']),\n",
    "                  name=\"infosource\")\n",
    "infosource.iterables = [('subject_id', subject_list)]\n",
    "\n",
    "templates = {'inverse_transform_composite': opj(input_dir_reg, 'registrationtemp', '{subject_id}', 'transformInverseComposite.h5'),\n",
    "             'atlas_ROIs': opj(input_dir_ROIs, '*.nii.gz')\n",
    "            } \n",
    "\n",
    "# SelectFiles - to grab the data (alternativ to DataGrabber),\n",
    "selectfiles = Node(SelectFiles(templates,\n",
    "                               base_directory=experiment_dir),\n",
    "                   name=\"selectfiles\")\n",
    "\n",
    "# Datasink - creates output folder for important outputs\n",
    "datasink = Node(DataSink(base_directory=experiment_dir,\n",
    "                         container=output_dir),\n",
    "                name=\"datasink\")\n",
    "\n",
    "# Use the following DataSink output substitutions\n",
    "substitutions = [('_subject_id_', '')]\n",
    "\n",
    "datasink.inputs.substitutions = substitutions"
   ]
  },
  {
   "cell_type": "code",
   "execution_count": null,
   "metadata": {},
   "outputs": [],
   "source": [
    "##### initiate the workflow and connect nodes #####\n",
    "\n",
    "# Initiation of the inverse transform ROIs workflow\n",
    "inverse_transform_ROIs = Workflow(name='inverse_transform_ROIs')\n",
    "inverse_transform_ROIs.base_dir = opj(experiment_dir, working_dir)\n",
    "\n",
    "# Connect up ANTS normalization components\n",
    "inverse_transform_ROIs.connect([(fssource, convert2niigz, [('brain', 'in_file')]),            \n",
    "                  (convert2niigz, inverse_transform_rois, [('out_file', 'reference_image')]),              \n",
    "                  (inverse_transform_rois, gunzip_rois, [('output_image', 'in_file')]),\n",
    "                  (convert2niigz, gunzip_anat, [('out_file', 'in_file')]),              \n",
    "                  ])"
   ]
  },
  {
   "cell_type": "code",
   "execution_count": null,
   "metadata": {},
   "outputs": [],
   "source": [
    "# Connect SelectFiles and DataSink to the workflow\n",
    "inverse_transform_ROIs.connect([(infosource, selectfiles, [('subject_id', 'subject_id')]),\n",
    "                  (infosource, fssource, [('subject_id', 'subject_id')]),         \n",
    "                  (selectfiles, inverse_transform_rois, [('atlas_ROIs', 'input_image')]),\n",
    "                  (selectfiles, inverse_transform_rois, [('inverse_transform_composite', 'transforms')]),\n",
    "                                \n",
    "                  (convert2niigz, datasink, [('out_file', 'convert2niigz.@anatomical_niigz_transform')]),              \n",
    "                  (gunzip_rois, datasink, [('out_file', 'inverse_transform_rois.@roi_transform')]),\n",
    "                  (gunzip_anat, datasink, [('out_file', 'unzipped_anatomical.@unzipped_anatomical')]),              \n",
    "                  ])"
   ]
  },
  {
   "cell_type": "code",
   "execution_count": null,
   "metadata": {},
   "outputs": [],
   "source": [
    "##### visualize the pipeline #####\n",
    "\n",
    "# Create a colored output graph\n",
    "inverse_transform_ROIs.write_graph(graph2use='colored',format='png', simple_form=True)\n",
    "\n",
    "# Create a detailed output graph\n",
    "inverse_transform_ROIs.write_graph(graph2use='flat',format='png', simple_form=True)"
   ]
  },
  {
   "cell_type": "code",
   "execution_count": null,
   "metadata": {
    "scrolled": false
   },
   "outputs": [],
   "source": [
    "# Visualize the simple graph\n",
    "from IPython.display import Image\n",
    "Image(filename='/media/lmn/86A406A0A406933B2/TNAC_BIDS/derivatives/masks/workingdir_inverse_transform_ROIs/inverse_transform_ROIs/graph.png')"
   ]
  },
  {
   "cell_type": "code",
   "execution_count": null,
   "metadata": {},
   "outputs": [],
   "source": [
    "# Visualize the detailed graph\n",
    "from IPython.display import Image\n",
    "Image(filename='/media/lmn/86A406A0A406933B2/TNAC_BIDS/derivatives/masks/workingdir_inverse_transform_ROIs/inverse_transform_ROIs/graph_detailed.png')"
   ]
  },
  {
   "cell_type": "code",
   "execution_count": null,
   "metadata": {
    "scrolled": true
   },
   "outputs": [],
   "source": [
    "##### run the workflow using multiple cores #####\n",
    "\n",
    "inverse_transform_ROIs.run('MultiProc', plugin_args={'n_procs':4})"
   ]
  },
  {
   "cell_type": "code",
   "execution_count": null,
   "metadata": {},
   "outputs": [],
   "source": [
    "!tree /media/lmn/86A406A0A406933B2/TNAC_BIDS/derivatives/masks/output_inverse_transform_ROIs/"
   ]
  }
 ],
 "metadata": {
  "kernelspec": {
   "display_name": "Python 3",
   "language": "python",
   "name": "python3"
  },
  "language_info": {
   "codemirror_mode": {
    "name": "ipython",
    "version": 3
   },
   "file_extension": ".py",
   "mimetype": "text/x-python",
   "name": "python",
   "nbconvert_exporter": "python",
   "pygments_lexer": "ipython3",
   "version": "3.6.5"
  }
 },
 "nbformat": 4,
 "nbformat_minor": 2
}
