{
 "cells": [
  {
   "cell_type": "markdown",
   "metadata": {},
   "source": [
    "# separte workflow for coregistration of anatomical image to mni template"
   ]
  },
  {
   "cell_type": "code",
   "execution_count": null,
   "metadata": {},
   "outputs": [],
   "source": [
    "# import modules\n",
    "from os.path import join as opj\n",
    "import os\n",
    "from nipype.interfaces.utility import Function, IdentityInterface\n",
    "from nipype.interfaces.io import FreeSurferSource, SelectFiles, DataSink\n",
    "from nipype.pipeline.engine import Workflow, Node, MapNode\n",
    "from nipype.interfaces.ants import Registration\n",
    "from nipype.interfaces.fsl import BET, Info"
   ]
  },
  {
   "cell_type": "code",
   "execution_count": null,
   "metadata": {},
   "outputs": [],
   "source": [
    "# set paths and define parameters\n",
    "experiment_dir = '/media/lmn/86A406A0A406933B2/TNAC_BIDS/'\n",
    "output_dir = 'derivatives/preprocessing/output_registration'\n",
    "working_dir = 'derivatives/preprocessing/workingdir_registration'\n",
    "\n",
    "# list of subjects\n",
    "#subject_list = ['sub-01']\n",
    "subject_list = ['sub-15', 'sub-16', 'sub-17', 'sub-18', 'sub-19', 'sub-20', 'sub-21', 'sub-22', 'sub-23', 'sub-24']\n",
    "\n",
    "# Smoothing widths to apply\n",
    "fwhm = 3\n",
    "\n",
    "# TR of functional images (from dataset)\n",
    "TR = 1.45\n",
    "\n",
    "# location of template file for coregistration to mni template (full path needed, error otherwise)\n",
    "template = Info.standard_image('/media/lmn/86A406A0A406933B2/mni_icbm152_nlin_asym_09c_3mm/mni_icbm152_t1_tal_nlin_asym_09c_brain.nii.gz')"
   ]
  },
  {
   "cell_type": "code",
   "execution_count": null,
   "metadata": {},
   "outputs": [],
   "source": [
    "templates = {'anat': 'derivatives/mindboggle/freesurfer_subjects/{subject_id}/mri/brain.mgz'}\n",
    "                \n",
    "# SelectFiles - to grab the data (alternativ to DataGrabber)\n",
    "selectfiles = Node(SelectFiles(templates,\n",
    "                                base_directory=experiment_dir),\n",
    "                   name=\"selectfiles\")\n",
    "\n",
    "# Infosource - a function free node to iterate over the list of subject names\n",
    "infosource = Node(IdentityInterface(fields=['subject_id']),\n",
    "                  name=\"infosource\")\n",
    "infosource.iterables = [('subject_id', subject_list)]\n",
    "\n",
    "\n",
    "# Datasink - creates output folder for important outputs\n",
    "datasink = Node(DataSink(base_directory=experiment_dir,\n",
    "                         container=output_dir),\n",
    "                name=\"datasink\")\n",
    "\n",
    "# Use the following DataSink output substitutions\n",
    "substitutions = [('_subject_id_', '')]\n",
    "\n",
    "datasink.inputs.substitutions = substitutions"
   ]
  },
  {
   "cell_type": "code",
   "execution_count": null,
   "metadata": {},
   "outputs": [],
   "source": [
    "# skullstrip the ants-mni-template, because structural freesurfer-input is also skullstripped!\n",
    "bet_mask = Node(BET(frac=0.5,\n",
    "                    robust=True,\n",
    "                    in_file=template,\n",
    "                    output_type='NIFTI_GZ'),\n",
    "                name=\"bet_mask\")    \n",
    "\n",
    "# antsRegistration - coregister t1 on mni template\n",
    "registrationtemp = Node(Registration(args='--float',\n",
    "                            collapse_output_transforms=True,\n",
    "                            initial_moving_transform_com=True, \n",
    "                            num_threads=4,   # specify number of cores to use\n",
    "                            output_inverse_warped_image=True,\n",
    "                            output_warped_image=True,\n",
    "                            sigma_units=['vox']*3,\n",
    "                            transforms=['Rigid', 'Affine', 'SyN'],\n",
    "                            terminal_output='file',\n",
    "                            winsorize_lower_quantile=0.005,\n",
    "                            winsorize_upper_quantile=0.995,\n",
    "                            convergence_threshold=[1e-06],\n",
    "                            convergence_window_size=[10],\n",
    "                            metric=['MI', 'MI', 'CC'],\n",
    "                            metric_weight=[1.0]*3,\n",
    "                            number_of_iterations=[[1000, 500, 250, 100],\n",
    "                                                  [1000, 500, 250, 100],\n",
    "                                                  [100, 70, 50, 20]],\n",
    "                            radius_or_number_of_bins=[32, 32, 4],\n",
    "                            sampling_percentage=[0.25, 0.25, 1],\n",
    "                            sampling_strategy=['Regular',\n",
    "                                               'Regular',\n",
    "                                               'None'],\n",
    "                            shrink_factors=[[8, 4, 2, 1]]*3,\n",
    "                            smoothing_sigmas=[[3, 2, 1, 0]]*3,\n",
    "                            transform_parameters=[(0.1,),\n",
    "                                                  (0.1,),\n",
    "                                                  (0.1, 3.0, 0.0)],\n",
    "                            use_histogram_matching=True,\n",
    "                            write_composite_transform=True),\n",
    "               name='registrationtemp')"
   ]
  },
  {
   "cell_type": "code",
   "execution_count": null,
   "metadata": {},
   "outputs": [],
   "source": [
    "# Create a preprocessing workflow\n",
    "registration = Workflow(name='registration')\n",
    "registration.base_dir = opj(experiment_dir, working_dir)\n",
    "\n",
    "# Connect all components of the preprocessing workflow - aparc / ribbon mask \n",
    "registration.connect([(infosource, selectfiles, [('subject_id', 'subject_id')]),    \n",
    "                  (selectfiles, registrationtemp, [('anat', 'moving_image')]),\n",
    "                  (bet_mask, registrationtemp, [('out_file', 'fixed_image')]),\n",
    "                  (registrationtemp, datasink, [('warped_image', 'registrationtemp.@warped_image'),\n",
    "                                                ('inverse_warped_image', 'registrationtemp.@inverse_warped_image'),\n",
    "                                                ('inverse_composite_transform', 'registrationtemp.@inverse_composite_transform'),\n",
    "                                                ('composite_transform', 'registrationtemp.@composite_transform')]),\n",
    "                      ])"
   ]
  },
  {
   "cell_type": "code",
   "execution_count": null,
   "metadata": {},
   "outputs": [],
   "source": [
    "#### visualize the pipeline ####\n",
    "\n",
    "# Create a colored mvpaflow output graph\n",
    "registration.write_graph(graph2use='colored',format='png', simple_form=True)\n",
    "\n",
    "# Visualize the simple graph\n",
    "from IPython.display import Image\n",
    "Image(filename='/media/lmn/86A406A0A406933B2/TNAC_BIDS/derivatives/preprocessing/workingdir_registration/registration/graph.png')"
   ]
  },
  {
   "cell_type": "code",
   "execution_count": null,
   "metadata": {
    "scrolled": true
   },
   "outputs": [],
   "source": [
    "#### run the workflow using multiple cores ####\n",
    "registration.run('MultiProc', plugin_args={'n_procs':4})"
   ]
  },
  {
   "cell_type": "code",
   "execution_count": null,
   "metadata": {
    "scrolled": false
   },
   "outputs": [],
   "source": [
    "!tree /media/lmn/86A406A0A406933B2/TNAC_BIDS/derivatives/preprocessing/output_registration/"
   ]
  }
 ],
 "metadata": {
  "kernelspec": {
   "display_name": "Python 3",
   "language": "python",
   "name": "python3"
  },
  "language_info": {
   "codemirror_mode": {
    "name": "ipython",
    "version": 3
   },
   "file_extension": ".py",
   "mimetype": "text/x-python",
   "name": "python",
   "nbconvert_exporter": "python",
   "pygments_lexer": "ipython3",
   "version": "3.6.5"
  }
 },
 "nbformat": 4,
 "nbformat_minor": 2
}
